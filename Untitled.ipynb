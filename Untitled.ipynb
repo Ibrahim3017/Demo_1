{
 "cells": [
  {
   "cell_type": "code",
   "execution_count": 1,
   "id": "60a5c412-1ef5-4163-a76f-9b4d7d392e14",
   "metadata": {},
   "outputs": [],
   "source": [
    "data= \"welcome to data science world\""
   ]
  },
  {
   "cell_type": "code",
   "execution_count": 2,
   "id": "e7d35eb5-eaea-4f38-ab23-0dd4d6183e75",
   "metadata": {},
   "outputs": [
    {
     "data": {
      "text/plain": [
       "'welcome to data science world'"
      ]
     },
     "execution_count": 2,
     "metadata": {},
     "output_type": "execute_result"
    }
   ],
   "source": [
    "data"
   ]
  },
  {
   "cell_type": "code",
   "execution_count": 3,
   "id": "3aad0890-3d17-4ef3-ad1f-39337147d582",
   "metadata": {},
   "outputs": [
    {
     "data": {
      "text/plain": [
       "'Ibrahim sayad'"
      ]
     },
     "execution_count": 3,
     "metadata": {},
     "output_type": "execute_result"
    }
   ],
   "source": [
    "name= \"Ibrahim sayad\"\n",
    "name"
   ]
  },
  {
   "cell_type": "code",
   "execution_count": 8,
   "id": "f3e8a058-77c3-49bd-9caa-b5b60a3b8a1a",
   "metadata": {},
   "outputs": [
    {
     "name": "stdout",
     "output_type": "stream",
     "text": [
      "welcome to data science world\n"
     ]
    }
   ],
   "source": [
    "print(data)"
   ]
  },
  {
   "cell_type": "code",
   "execution_count": 12,
   "id": "48e69971-e425-4808-b3af-c14f6c046686",
   "metadata": {},
   "outputs": [
    {
     "name": "stdout",
     "output_type": "stream",
     "text": [
      "Ibrahim sayad\n",
      "welcome to data science world\n"
     ]
    }
   ],
   "source": [
    "print(name)\n",
    "print(data)"
   ]
  },
  {
   "cell_type": "code",
   "execution_count": 1,
   "id": "61edb0f8-3217-4985-b209-18fd3289a6ec",
   "metadata": {},
   "outputs": [
    {
     "name": "stdout",
     "output_type": "stream",
     "text": [
      "30\n"
     ]
    }
   ],
   "source": [
    "print(20+10)"
   ]
  },
  {
   "cell_type": "code",
   "execution_count": null,
   "id": "6c5f9f7d-73be-4bb9-8e22-5ceaa8187bc3",
   "metadata": {},
   "outputs": [],
   "source": []
  }
 ],
 "metadata": {
  "kernelspec": {
   "display_name": "Python [conda env:base] *",
   "language": "python",
   "name": "conda-base-py"
  },
  "language_info": {
   "codemirror_mode": {
    "name": "ipython",
    "version": 3
   },
   "file_extension": ".py",
   "mimetype": "text/x-python",
   "name": "python",
   "nbconvert_exporter": "python",
   "pygments_lexer": "ipython3",
   "version": "3.12.7"
  }
 },
 "nbformat": 4,
 "nbformat_minor": 5
}
